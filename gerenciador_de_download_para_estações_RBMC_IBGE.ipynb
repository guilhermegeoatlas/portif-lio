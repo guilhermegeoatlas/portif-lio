{
  "nbformat": 4,
  "nbformat_minor": 0,
  "metadata": {
    "colab": {
      "name": "gerenciador de download para estações RBMC-IBGE.ipynb",
      "provenance": [],
      "collapsed_sections": [],
      "mount_file_id": "118O5eKUnKT2m7LfnnQF3vVlELMpbg0gk",
      "authorship_tag": "ABX9TyNVorIpQEVvEhs2hKBX3pMn",
      "include_colab_link": true
    },
    "kernelspec": {
      "name": "python3",
      "display_name": "Python 3"
    },
    "language_info": {
      "name": "python"
    }
  },
  "cells": [
    {
      "cell_type": "markdown",
      "metadata": {
        "id": "view-in-github",
        "colab_type": "text"
      },
      "source": [
        "<a href=\"https://colab.research.google.com/github/guivieiratorres/portifolio/blob/master/gerenciador_de_download_para_esta%C3%A7%C3%B5es_RBMC_IBGE.ipynb\" target=\"_parent\"><img src=\"https://colab.research.google.com/assets/colab-badge.svg\" alt=\"Open In Colab\"/></a>"
      ]
    },
    {
      "cell_type": "code",
      "source": [
        "!pip install geopandas\n",
        "import math"
      ],
      "metadata": {
        "id": "G4g5ChXm0DZX",
        "colab": {
          "base_uri": "https://localhost:8080/"
        },
        "outputId": "09065251-12af-44d8-8d48-050a43e8c2da"
      },
      "execution_count": 1,
      "outputs": [
        {
          "output_type": "stream",
          "name": "stdout",
          "text": [
            "Looking in indexes: https://pypi.org/simple, https://us-python.pkg.dev/colab-wheels/public/simple/\n",
            "Collecting geopandas\n",
            "  Downloading geopandas-0.10.2-py2.py3-none-any.whl (1.0 MB)\n",
            "\u001b[K     |████████████████████████████████| 1.0 MB 7.8 MB/s \n",
            "\u001b[?25hRequirement already satisfied: shapely>=1.6 in /usr/local/lib/python3.7/dist-packages (from geopandas) (1.8.2)\n",
            "Collecting fiona>=1.8\n",
            "  Downloading Fiona-1.8.21-cp37-cp37m-manylinux2014_x86_64.whl (16.7 MB)\n",
            "\u001b[K     |████████████████████████████████| 16.7 MB 10.5 MB/s \n",
            "\u001b[?25hRequirement already satisfied: pandas>=0.25.0 in /usr/local/lib/python3.7/dist-packages (from geopandas) (1.3.5)\n",
            "Collecting pyproj>=2.2.0\n",
            "  Downloading pyproj-3.2.1-cp37-cp37m-manylinux2010_x86_64.whl (6.3 MB)\n",
            "\u001b[K     |████████████████████████████████| 6.3 MB 32.2 MB/s \n",
            "\u001b[?25hRequirement already satisfied: click>=4.0 in /usr/local/lib/python3.7/dist-packages (from fiona>=1.8->geopandas) (7.1.2)\n",
            "Collecting cligj>=0.5\n",
            "  Downloading cligj-0.7.2-py3-none-any.whl (7.1 kB)\n",
            "Collecting munch\n",
            "  Downloading munch-2.5.0-py2.py3-none-any.whl (10 kB)\n",
            "Requirement already satisfied: six>=1.7 in /usr/local/lib/python3.7/dist-packages (from fiona>=1.8->geopandas) (1.15.0)\n",
            "Requirement already satisfied: certifi in /usr/local/lib/python3.7/dist-packages (from fiona>=1.8->geopandas) (2022.5.18.1)\n",
            "Requirement already satisfied: setuptools in /usr/local/lib/python3.7/dist-packages (from fiona>=1.8->geopandas) (57.4.0)\n",
            "Requirement already satisfied: attrs>=17 in /usr/local/lib/python3.7/dist-packages (from fiona>=1.8->geopandas) (21.4.0)\n",
            "Collecting click-plugins>=1.0\n",
            "  Downloading click_plugins-1.1.1-py2.py3-none-any.whl (7.5 kB)\n",
            "Requirement already satisfied: numpy>=1.17.3 in /usr/local/lib/python3.7/dist-packages (from pandas>=0.25.0->geopandas) (1.21.6)\n",
            "Requirement already satisfied: pytz>=2017.3 in /usr/local/lib/python3.7/dist-packages (from pandas>=0.25.0->geopandas) (2022.1)\n",
            "Requirement already satisfied: python-dateutil>=2.7.3 in /usr/local/lib/python3.7/dist-packages (from pandas>=0.25.0->geopandas) (2.8.2)\n",
            "Installing collected packages: munch, cligj, click-plugins, pyproj, fiona, geopandas\n",
            "Successfully installed click-plugins-1.1.1 cligj-0.7.2 fiona-1.8.21 geopandas-0.10.2 munch-2.5.0 pyproj-3.2.1\n"
          ]
        }
      ]
    },
    {
      "cell_type": "code",
      "source": [
        "import pandas as pd\n",
        "\n",
        "df = pd.read_csv(\"/content/drive/MyDrive/Colab Notebooks/dados/estacoes_rbmc.csv\", encoding = 'utf-8', delimiter = ';')\n",
        "\n",
        "df.head(150)\n"
      ],
      "metadata": {
        "colab": {
          "base_uri": "https://localhost:8080/",
          "height": 424
        },
        "id": "x5RDgzPfqo25",
        "outputId": "c30b9897-f71a-4d33-9ddc-acb6c0b542a0"
      },
      "execution_count": 2,
      "outputs": [
        {
          "output_type": "execute_result",
          "data": {
            "text/plain": [
              "      id Nome_est                    local  lat_aprox  lng_aprox\n",
              "0      1     ALAR                ARAPIRACA  -9.749225 -36.653420\n",
              "1      2     ALMA                   MACEIÓ  -9.554711 -35.777101\n",
              "2      3     AMCO                    COARI  -4.871989 -65.333979\n",
              "3      4     AMCR             COARI - IBGE  -4.085823 -63.142204\n",
              "4      5     AMHA            HUMAITÁ - UEA  -7.516750 -63.028401\n",
              "..   ...      ...                      ...        ...        ...\n",
              "145  146     TOPL                   PALMAS -10.171054 -48.330679\n",
              "146  147     UBA1       UBATUBA(MARÉGRAFO) -23.500177 -45.118901\n",
              "147  148     UBE1  UBERLÂNDIA - REDE CEMIG -18.889536 -48.316972\n",
              "148  149     UFPR            CURITIBA-UFPR -25.448369 -49.230955\n",
              "149  150     VICO                   VIÇOSA -20.761501 -42.869989\n",
              "\n",
              "[150 rows x 5 columns]"
            ],
            "text/html": [
              "\n",
              "  <div id=\"df-e5388587-0ea6-461b-92ea-58c06383cdb7\">\n",
              "    <div class=\"colab-df-container\">\n",
              "      <div>\n",
              "<style scoped>\n",
              "    .dataframe tbody tr th:only-of-type {\n",
              "        vertical-align: middle;\n",
              "    }\n",
              "\n",
              "    .dataframe tbody tr th {\n",
              "        vertical-align: top;\n",
              "    }\n",
              "\n",
              "    .dataframe thead th {\n",
              "        text-align: right;\n",
              "    }\n",
              "</style>\n",
              "<table border=\"1\" class=\"dataframe\">\n",
              "  <thead>\n",
              "    <tr style=\"text-align: right;\">\n",
              "      <th></th>\n",
              "      <th>id</th>\n",
              "      <th>Nome_est</th>\n",
              "      <th>local</th>\n",
              "      <th>lat_aprox</th>\n",
              "      <th>lng_aprox</th>\n",
              "    </tr>\n",
              "  </thead>\n",
              "  <tbody>\n",
              "    <tr>\n",
              "      <th>0</th>\n",
              "      <td>1</td>\n",
              "      <td>ALAR</td>\n",
              "      <td>ARAPIRACA</td>\n",
              "      <td>-9.749225</td>\n",
              "      <td>-36.653420</td>\n",
              "    </tr>\n",
              "    <tr>\n",
              "      <th>1</th>\n",
              "      <td>2</td>\n",
              "      <td>ALMA</td>\n",
              "      <td>MACEIÓ</td>\n",
              "      <td>-9.554711</td>\n",
              "      <td>-35.777101</td>\n",
              "    </tr>\n",
              "    <tr>\n",
              "      <th>2</th>\n",
              "      <td>3</td>\n",
              "      <td>AMCO</td>\n",
              "      <td>COARI</td>\n",
              "      <td>-4.871989</td>\n",
              "      <td>-65.333979</td>\n",
              "    </tr>\n",
              "    <tr>\n",
              "      <th>3</th>\n",
              "      <td>4</td>\n",
              "      <td>AMCR</td>\n",
              "      <td>COARI - IBGE</td>\n",
              "      <td>-4.085823</td>\n",
              "      <td>-63.142204</td>\n",
              "    </tr>\n",
              "    <tr>\n",
              "      <th>4</th>\n",
              "      <td>5</td>\n",
              "      <td>AMHA</td>\n",
              "      <td>HUMAITÁ - UEA</td>\n",
              "      <td>-7.516750</td>\n",
              "      <td>-63.028401</td>\n",
              "    </tr>\n",
              "    <tr>\n",
              "      <th>...</th>\n",
              "      <td>...</td>\n",
              "      <td>...</td>\n",
              "      <td>...</td>\n",
              "      <td>...</td>\n",
              "      <td>...</td>\n",
              "    </tr>\n",
              "    <tr>\n",
              "      <th>145</th>\n",
              "      <td>146</td>\n",
              "      <td>TOPL</td>\n",
              "      <td>PALMAS</td>\n",
              "      <td>-10.171054</td>\n",
              "      <td>-48.330679</td>\n",
              "    </tr>\n",
              "    <tr>\n",
              "      <th>146</th>\n",
              "      <td>147</td>\n",
              "      <td>UBA1</td>\n",
              "      <td>UBATUBA(MARÉGRAFO)</td>\n",
              "      <td>-23.500177</td>\n",
              "      <td>-45.118901</td>\n",
              "    </tr>\n",
              "    <tr>\n",
              "      <th>147</th>\n",
              "      <td>148</td>\n",
              "      <td>UBE1</td>\n",
              "      <td>UBERLÂNDIA - REDE CEMIG</td>\n",
              "      <td>-18.889536</td>\n",
              "      <td>-48.316972</td>\n",
              "    </tr>\n",
              "    <tr>\n",
              "      <th>148</th>\n",
              "      <td>149</td>\n",
              "      <td>UFPR</td>\n",
              "      <td>CURITIBA-UFPR</td>\n",
              "      <td>-25.448369</td>\n",
              "      <td>-49.230955</td>\n",
              "    </tr>\n",
              "    <tr>\n",
              "      <th>149</th>\n",
              "      <td>150</td>\n",
              "      <td>VICO</td>\n",
              "      <td>VIÇOSA</td>\n",
              "      <td>-20.761501</td>\n",
              "      <td>-42.869989</td>\n",
              "    </tr>\n",
              "  </tbody>\n",
              "</table>\n",
              "<p>150 rows × 5 columns</p>\n",
              "</div>\n",
              "      <button class=\"colab-df-convert\" onclick=\"convertToInteractive('df-e5388587-0ea6-461b-92ea-58c06383cdb7')\"\n",
              "              title=\"Convert this dataframe to an interactive table.\"\n",
              "              style=\"display:none;\">\n",
              "        \n",
              "  <svg xmlns=\"http://www.w3.org/2000/svg\" height=\"24px\"viewBox=\"0 0 24 24\"\n",
              "       width=\"24px\">\n",
              "    <path d=\"M0 0h24v24H0V0z\" fill=\"none\"/>\n",
              "    <path d=\"M18.56 5.44l.94 2.06.94-2.06 2.06-.94-2.06-.94-.94-2.06-.94 2.06-2.06.94zm-11 1L8.5 8.5l.94-2.06 2.06-.94-2.06-.94L8.5 2.5l-.94 2.06-2.06.94zm10 10l.94 2.06.94-2.06 2.06-.94-2.06-.94-.94-2.06-.94 2.06-2.06.94z\"/><path d=\"M17.41 7.96l-1.37-1.37c-.4-.4-.92-.59-1.43-.59-.52 0-1.04.2-1.43.59L10.3 9.45l-7.72 7.72c-.78.78-.78 2.05 0 2.83L4 21.41c.39.39.9.59 1.41.59.51 0 1.02-.2 1.41-.59l7.78-7.78 2.81-2.81c.8-.78.8-2.07 0-2.86zM5.41 20L4 18.59l7.72-7.72 1.47 1.35L5.41 20z\"/>\n",
              "  </svg>\n",
              "      </button>\n",
              "      \n",
              "  <style>\n",
              "    .colab-df-container {\n",
              "      display:flex;\n",
              "      flex-wrap:wrap;\n",
              "      gap: 12px;\n",
              "    }\n",
              "\n",
              "    .colab-df-convert {\n",
              "      background-color: #E8F0FE;\n",
              "      border: none;\n",
              "      border-radius: 50%;\n",
              "      cursor: pointer;\n",
              "      display: none;\n",
              "      fill: #1967D2;\n",
              "      height: 32px;\n",
              "      padding: 0 0 0 0;\n",
              "      width: 32px;\n",
              "    }\n",
              "\n",
              "    .colab-df-convert:hover {\n",
              "      background-color: #E2EBFA;\n",
              "      box-shadow: 0px 1px 2px rgba(60, 64, 67, 0.3), 0px 1px 3px 1px rgba(60, 64, 67, 0.15);\n",
              "      fill: #174EA6;\n",
              "    }\n",
              "\n",
              "    [theme=dark] .colab-df-convert {\n",
              "      background-color: #3B4455;\n",
              "      fill: #D2E3FC;\n",
              "    }\n",
              "\n",
              "    [theme=dark] .colab-df-convert:hover {\n",
              "      background-color: #434B5C;\n",
              "      box-shadow: 0px 1px 3px 1px rgba(0, 0, 0, 0.15);\n",
              "      filter: drop-shadow(0px 1px 2px rgba(0, 0, 0, 0.3));\n",
              "      fill: #FFFFFF;\n",
              "    }\n",
              "  </style>\n",
              "\n",
              "      <script>\n",
              "        const buttonEl =\n",
              "          document.querySelector('#df-e5388587-0ea6-461b-92ea-58c06383cdb7 button.colab-df-convert');\n",
              "        buttonEl.style.display =\n",
              "          google.colab.kernel.accessAllowed ? 'block' : 'none';\n",
              "\n",
              "        async function convertToInteractive(key) {\n",
              "          const element = document.querySelector('#df-e5388587-0ea6-461b-92ea-58c06383cdb7');\n",
              "          const dataTable =\n",
              "            await google.colab.kernel.invokeFunction('convertToInteractive',\n",
              "                                                     [key], {});\n",
              "          if (!dataTable) return;\n",
              "\n",
              "          const docLinkHtml = 'Like what you see? Visit the ' +\n",
              "            '<a target=\"_blank\" href=https://colab.research.google.com/notebooks/data_table.ipynb>data table notebook</a>'\n",
              "            + ' to learn more about interactive tables.';\n",
              "          element.innerHTML = '';\n",
              "          dataTable['output_type'] = 'display_data';\n",
              "          await google.colab.output.renderOutput(dataTable, element);\n",
              "          const docLink = document.createElement('div');\n",
              "          docLink.innerHTML = docLinkHtml;\n",
              "          element.appendChild(docLink);\n",
              "        }\n",
              "      </script>\n",
              "    </div>\n",
              "  </div>\n",
              "  "
            ]
          },
          "metadata": {},
          "execution_count": 2
        }
      ]
    },
    {
      "cell_type": "code",
      "source": [
        "# CALCULO PARA CONVERTER COORDENADAS GEODESICAS EM CARTESIANAS TRIDIMENSIONAIS\n",
        "\n",
        "from numpy import radians\n",
        "\n",
        "\n",
        "def geo_to_cart3d(lat,lng,h):\n",
        "\n",
        "#FORMULAÇÃO GEODESICA (PARÂMETROS DO ELIPSOIDE GRS80)\n",
        "\n",
        "  a = 6378137 #semi eixo maior\n",
        "  b = 6356752.3141 #semi eixo menor\n",
        "  e1 = 0.00669438002290 #1º excentricidade\n",
        "  e2 = 0.00673949677548 #2º excentricidade\n",
        "  f = 0.00335281068118 #achatamento\n",
        "\n",
        "  PN = a*(1 - e1)/(1 - e1 * (math.sin(radians(lat)))**2)**0.5 # Pequena Normal\n",
        "  GN = a/(1 - e1 * (math.sin(radians(lat)))**2)**0.5 # Grande Normal\n",
        "  X = (GN + h) * math.cos(radians(lat)) * math.cos(radians(lng))\n",
        "  Y = (GN + h) * math.cos(radians(lat)) * math.sin(radians(lng))\n",
        "  Z = (PN + h) * math.sin(radians(lat))\n",
        "  return (X,Y,Z)"
      ],
      "metadata": {
        "id": "wNB19PD1zyOF"
      },
      "execution_count": 3,
      "outputs": []
    },
    {
      "cell_type": "code",
      "source": [
        "from numpy.ma.core import sqrt\n",
        "# FUNCAO PARA CALCULAR A DISTANCIA ENTRE COORDENADAS CARTESIANAS 3D\n",
        "def calc_dist(x2,x1,y2,y1,z2,z1):\n",
        "  return math.sqrt((x2 - x1)**2 + (y2 - y1)**2 + (z2 - z1)**2)\n",
        "  "
      ],
      "metadata": {
        "id": "0238VQIV1yl3"
      },
      "execution_count": 4,
      "outputs": []
    },
    {
      "cell_type": "code",
      "source": [
        "# SCRIPT PARA IDENTIFICAR O DIA DO RASTREIO\n",
        "from datetime import datetime\n",
        "\n",
        "data = datetime.strptime(str(input(\"Data do rastreio GNSS: (dd/mm/aaaa)\")), \"%d/%m/%Y\") #data do rastreio que deseja-se fazer download\n",
        "data_zero = datetime.strptime(\"01/01/\" + str(data)[:4], \"%d/%m/%Y\") #data zero para contagem\n",
        "\n",
        "calc_data_preliminar = data - data_zero #calculo preliminar para definir os dias corridos da data\n",
        "calc_data = int(str(calc_data_preliminar)[:3]) + 1 #calculo para definir os dias corridos da data\n",
        "print(calc_data)\n",
        "\n",
        "dias = str(calc_data)+'1'"
      ],
      "metadata": {
        "id": "MbQeuQMKEkRy",
        "colab": {
          "base_uri": "https://localhost:8080/"
        },
        "outputId": "8db0c494-da86-430a-f5ac-d7d4bb2f4c86"
      },
      "execution_count": 5,
      "outputs": [
        {
          "output_type": "stream",
          "name": "stdout",
          "text": [
            "Data do rastreio GNSS: (dd/mm/aaaa)15/04/2022\n",
            "105\n"
          ]
        }
      ]
    },
    {
      "cell_type": "code",
      "source": [
        "lat = float(input('Digite as coordenadas geodésicas : Latitude(°)'))\n",
        "lng = float(input('Digite as coordenadas geodésicas : Longitude(°)'))\n",
        "h = float(input('Digite as coordenadas geodésicas : Altitude elipsoidal(m)'))"
      ],
      "metadata": {
        "colab": {
          "base_uri": "https://localhost:8080/"
        },
        "id": "tqmhMCiVoQEl",
        "outputId": "34ae54f6-500d-4c7a-df32-ff8b8816e846"
      },
      "execution_count": 6,
      "outputs": [
        {
          "name": "stdout",
          "output_type": "stream",
          "text": [
            "Digite as coordenadas geodésicas : Latitude(°)-48.0264656\n",
            "Digite as coordenadas geodésicas : Longitude(°)-43.3158595\n",
            "Digite as coordenadas geodésicas : Altitude elipsoidal(m)156\n"
          ]
        }
      ]
    },
    {
      "cell_type": "code",
      "source": [
        "# Criando/plotando linhas com Nome estacao , coord cartesianas 3d , dist do ponto de analise \n",
        "'''\n",
        "i=0\n",
        "print('Est   |                            Coord XYZ                            |  Distância') #cabeçalho\n",
        "while i < len(df.index):\n",
        "  print(df.iloc[i]['Nome_est'],geo_to_cart3d(df.iloc[i]['lat_aprox'],df.iloc[i]['lng_aprox'],0),\n",
        "        round(calc_dist(geo_to_cart3d(lat,lng,h)[0],geo_to_cart3d(df.iloc[i]['lat_aprox'],df.iloc[i]['lng_aprox'],0)[0],\n",
        "          geo_to_cart3d(lat,lng,h)[1],geo_to_cart3d(df.iloc[i]['lat_aprox'],df.iloc[i]['lng_aprox'],0)[1],\n",
        "          geo_to_cart3d(lat,lng,h)[2],geo_to_cart3d(df.iloc[i]['lat_aprox'],df.iloc[i]['lng_aprox'],0)[2]),3), sep = '  |  ' )\n",
        "  i = i+1\n",
        "'''"
      ],
      "metadata": {
        "colab": {
          "base_uri": "https://localhost:8080/",
          "height": 72
        },
        "id": "7WvOnQwfqlM1",
        "outputId": "605a1a3b-4a7b-4554-a7a8-e2f552f1c970"
      },
      "execution_count": 7,
      "outputs": [
        {
          "output_type": "execute_result",
          "data": {
            "text/plain": [
              "\"\\ni=0\\nprint('Est   |                            Coord XYZ                            |  Distância') #cabeçalho\\nwhile i < len(df.index):\\n  print(df.iloc[i]['Nome_est'],geo_to_cart3d(df.iloc[i]['lat_aprox'],df.iloc[i]['lng_aprox'],0),\\n        round(calc_dist(geo_to_cart3d(lat,lng,h)[0],geo_to_cart3d(df.iloc[i]['lat_aprox'],df.iloc[i]['lng_aprox'],0)[0],\\n          geo_to_cart3d(lat,lng,h)[1],geo_to_cart3d(df.iloc[i]['lat_aprox'],df.iloc[i]['lng_aprox'],0)[1],\\n          geo_to_cart3d(lat,lng,h)[2],geo_to_cart3d(df.iloc[i]['lat_aprox'],df.iloc[i]['lng_aprox'],0)[2]),3), sep = '  |  ' )\\n  i = i+1\\n\""
            ],
            "application/vnd.google.colaboratory.intrinsic+json": {
              "type": "string"
            }
          },
          "metadata": {},
          "execution_count": 7
        }
      ]
    },
    {
      "cell_type": "code",
      "source": [
        "# cria dict com key= nome das estações e value = dist. entre coordenada de entrada\n",
        "\n",
        "i=0\n",
        "st = {}\n",
        "while i < len(df.index):\n",
        "\n",
        "  st[df.iloc[i]['Nome_est']] = round(calc_dist(geo_to_cart3d(lat,lng,h)[0],geo_to_cart3d(df.iloc[i]['lat_aprox'],df.iloc[i]['lng_aprox'],0)[0],\n",
        "          geo_to_cart3d(lat,lng,h)[1],geo_to_cart3d(df.iloc[i]['lat_aprox'],df.iloc[i]['lng_aprox'],0)[1],\n",
        "          geo_to_cart3d(lat,lng,h)[2],geo_to_cart3d(df.iloc[i]['lat_aprox'],df.iloc[i]['lng_aprox'],0)[2]),3)\n",
        "  i = i+1\n",
        "\n",
        "\n",
        "# cria novo dicionario com as 5 estações mais proximas do ponto de análise. a distancia está em Km\n",
        "st_ordem = {}\n",
        "for i in sorted(st, key = st.get):\n",
        "    st_ordem[i] = round(st[i]/1000,3)\n",
        "    if len(st_ordem) == 5:\n",
        "      break\n"
      ],
      "metadata": {
        "id": "PqMmfMGLCQQv"
      },
      "execution_count": 8,
      "outputs": []
    },
    {
      "cell_type": "code",
      "source": [
        "print('5 ESTAÇÕES MAIS PRÓXIMAS PARA O RASTREIO DO DIA ' + str(data) + '\\n')\n",
        "for i in list(st_ordem.keys()):\n",
        "  print(i, ': Dist.', st_ordem[i], 'Km')\n",
        "  print('Link para download dos arquivos RINEX:')\n",
        "  print(\"https://geoftp.ibge.gov.br/informacoes_sobre_posicionamento_geodesico/rbmc/dados/\"+str(data)[:4]+\"/\"+str(calc_data)+\"/\"+i.lower()+dias+\".zip\") # linha para baixar os arquivos Rinex.\n",
        "  print('Link para download do Relatório de Informação de Estação:')\n",
        "  print(\"https://geoftp.ibge.gov.br/informacoes_sobre_posicionamento_geodesico/rbmc/relatorio/Descritivo_\"+i+'\\n')\n"
      ],
      "metadata": {
        "colab": {
          "base_uri": "https://localhost:8080/"
        },
        "id": "5rDa9VkoEi7D",
        "outputId": "867a2c84-6c6c-410b-af07-02a949e14a39"
      },
      "execution_count": 12,
      "outputs": [
        {
          "output_type": "stream",
          "name": "stdout",
          "text": [
            "5 ESTAÇÕES MAIS PRÓXIMAS PARA O RASTREIO DO DIA 2022-04-15 00:00:00\n",
            "\n",
            "RSPE : Dist. 1951.277 Km\n",
            "Link para download dos arquivos RINEX:\n",
            "https://geoftp.ibge.gov.br/informacoes_sobre_posicionamento_geodesico/rbmc/dados/2022/105/rspe1051.zip\n",
            "Link para download do Relatório de Informação de Estação:\n",
            "https://geoftp.ibge.gov.br/informacoes_sobre_posicionamento_geodesico/rbmc/relatorio/Descritivo_RSPE\n",
            "\n",
            "POAL : Dist. 2092.185 Km\n",
            "Link para download dos arquivos RINEX:\n",
            "https://geoftp.ibge.gov.br/informacoes_sobre_posicionamento_geodesico/rbmc/dados/2022/105/poal1051.zip\n",
            "Link para download do Relatório de Informação de Estação:\n",
            "https://geoftp.ibge.gov.br/informacoes_sobre_posicionamento_geodesico/rbmc/relatorio/Descritivo_POAL\n",
            "\n",
            "SMAR : Dist. 2207.791 Km\n",
            "Link para download dos arquivos RINEX:\n",
            "https://geoftp.ibge.gov.br/informacoes_sobre_posicionamento_geodesico/rbmc/dados/2022/105/smar1051.zip\n",
            "Link para download do Relatório de Informação de Estação:\n",
            "https://geoftp.ibge.gov.br/informacoes_sobre_posicionamento_geodesico/rbmc/relatorio/Descritivo_SMAR\n",
            "\n",
            "IMBT : Dist. 2233.225 Km\n",
            "Link para download dos arquivos RINEX:\n",
            "https://geoftp.ibge.gov.br/informacoes_sobre_posicionamento_geodesico/rbmc/dados/2022/105/imbt1051.zip\n",
            "Link para download do Relatório de Informação de Estação:\n",
            "https://geoftp.ibge.gov.br/informacoes_sobre_posicionamento_geodesico/rbmc/relatorio/Descritivo_IMBT\n",
            "\n",
            "RSAL : Dist. 2275.657 Km\n",
            "Link para download dos arquivos RINEX:\n",
            "https://geoftp.ibge.gov.br/informacoes_sobre_posicionamento_geodesico/rbmc/dados/2022/105/rsal1051.zip\n",
            "Link para download do Relatório de Informação de Estação:\n",
            "https://geoftp.ibge.gov.br/informacoes_sobre_posicionamento_geodesico/rbmc/relatorio/Descritivo_RSAL\n",
            "\n"
          ]
        }
      ]
    }
  ]
}